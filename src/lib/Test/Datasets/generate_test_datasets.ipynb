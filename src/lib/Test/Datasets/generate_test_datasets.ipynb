{
 "cells": [
  {
   "cell_type": "code",
   "execution_count": 2,
   "metadata": {},
   "outputs": [],
   "source": [
    "import pandas as pd"
   ]
  },
  {
   "cell_type": "code",
   "execution_count": 3,
   "metadata": {},
   "outputs": [],
   "source": [
    "# Convert 6d manifolds to 3d manifolds\n",
    "#\n",
    "#\n",
    "\n",
    "df0 = pd.read_csv('Raw/SEL1_190d_1419tr.csv')\n",
    "df1 = pd.read_csv('Raw/SEL2_190d_1437tr.csv')"
   ]
  },
  {
   "cell_type": "code",
   "execution_count": 4,
   "metadata": {},
   "outputs": [],
   "source": [
    "df0.to_csv('SEL1_190d_1419tr_3d.csv', index=False, columns=['tr', 't', 'x', 'y', 'z'])\n",
    "df1.to_csv('SEL2_190d_1437tr_3d.csv', index=False, columns=['tr', 't', 'x', 'y', 'z'])"
   ]
  }
 ],
 "metadata": {
  "kernelspec": {
   "display_name": "Python 3",
   "language": "python",
   "name": "python3"
  },
  "language_info": {
   "codemirror_mode": {
    "name": "ipython",
    "version": 3
   },
   "file_extension": ".py",
   "mimetype": "text/x-python",
   "name": "python",
   "nbconvert_exporter": "python",
   "pygments_lexer": "ipython3",
   "version": "3.8.5"
  }
 },
 "nbformat": 4,
 "nbformat_minor": 4
}
